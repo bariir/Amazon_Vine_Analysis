{
  "nbformat": 4,
  "nbformat_minor": 0,
  "metadata": {
    "colab": {
      "provenance": [],
      "collapsed_sections": []
    },
    "kernelspec": {
      "name": "python3",
      "display_name": "Python 3"
    },
    "language_info": {
      "name": "python"
    }
  },
  "cells": [
    {
      "cell_type": "code",
      "execution_count": 1,
      "metadata": {
        "colab": {
          "base_uri": "https://localhost:8080/"
        },
        "id": "XbAkLivgvXMr",
        "outputId": "62c25a25-29ad-4788-c10a-fa5b5fe08f95"
      },
      "outputs": [
        {
          "output_type": "stream",
          "name": "stdout",
          "text": [
            "\r0% [Working]\r            \rGet:1 https://cloud.r-project.org/bin/linux/ubuntu bionic-cran40/ InRelease [3,626 B]\n",
            "\r0% [Connecting to archive.ubuntu.com] [Connecting to security.ubuntu.com (185.1\r0% [Connecting to archive.ubuntu.com] [Connecting to security.ubuntu.com (185.1\r0% [1 InRelease gpgv 3,626 B] [Connecting to archive.ubuntu.com (185.125.190.36\r                                                                               \rIgn:2 https://developer.download.nvidia.com/compute/machine-learning/repos/ubuntu1804/x86_64  InRelease\n",
            "\r0% [1 InRelease gpgv 3,626 B] [Connecting to archive.ubuntu.com (185.125.190.36\r                                                                               \rHit:3 https://developer.download.nvidia.com/compute/cuda/repos/ubuntu1804/x86_64  InRelease\n",
            "Hit:4 https://developer.download.nvidia.com/compute/machine-learning/repos/ubuntu1804/x86_64  Release\n",
            "Get:5 http://ppa.launchpad.net/c2d4u.team/c2d4u4.0+/ubuntu bionic InRelease [15.9 kB]\n",
            "Get:6 http://security.ubuntu.com/ubuntu bionic-security InRelease [88.7 kB]\n",
            "Hit:7 http://archive.ubuntu.com/ubuntu bionic InRelease\n",
            "Get:8 http://archive.ubuntu.com/ubuntu bionic-updates InRelease [88.7 kB]\n",
            "Hit:9 http://ppa.launchpad.net/cran/libgit2/ubuntu bionic InRelease\n",
            "Hit:11 http://ppa.launchpad.net/deadsnakes/ppa/ubuntu bionic InRelease\n",
            "Get:12 http://archive.ubuntu.com/ubuntu bionic-backports InRelease [83.3 kB]\n",
            "Hit:13 http://ppa.launchpad.net/graphics-drivers/ppa/ubuntu bionic InRelease\n",
            "Get:14 http://ppa.launchpad.net/c2d4u.team/c2d4u4.0+/ubuntu bionic/main Sources [2,155 kB]\n",
            "Get:15 http://security.ubuntu.com/ubuntu bionic-security/universe amd64 Packages [1,545 kB]\n",
            "Get:16 http://archive.ubuntu.com/ubuntu bionic-updates/main amd64 Packages [3,422 kB]\n",
            "Get:17 http://security.ubuntu.com/ubuntu bionic-security/main amd64 Packages [2,990 kB]\n",
            "Get:18 http://ppa.launchpad.net/c2d4u.team/c2d4u4.0+/ubuntu bionic/main amd64 Packages [1,104 kB]\n",
            "Get:19 http://archive.ubuntu.com/ubuntu bionic-updates/universe amd64 Packages [2,322 kB]\n",
            "Get:20 http://archive.ubuntu.com/ubuntu bionic-backports/universe amd64 Packages [20.6 kB]\n",
            "Get:21 http://archive.ubuntu.com/ubuntu bionic-backports/main amd64 Packages [64.0 kB]\n",
            "Fetched 13.9 MB in 5s (2,786 kB/s)\n",
            "Reading package lists... Done\n"
          ]
        }
      ],
      "source": [
        "import os\n",
        "# Find the latest version of spark 3.0 from http://www.apache.org/dist/spark/ and enter as the spark version\n",
        "# For example:\n",
        "# spark_version = 'spark-3.0.3'\n",
        "spark_version = 'spark-3.2.2'\n",
        "os.environ['SPARK_VERSION']=spark_version\n",
        "\n",
        "# Install Spark and Java\n",
        "!apt-get update\n",
        "!apt-get install openjdk-11-jdk-headless -qq > /dev/null\n",
        "!wget -q http://www.apache.org/dist/spark/$SPARK_VERSION/$SPARK_VERSION-bin-hadoop2.7.tgz\n",
        "!tar xf $SPARK_VERSION-bin-hadoop2.7.tgz\n",
        "!pip install -q findspark\n",
        "\n",
        "# Set Environment Variables\n",
        "import os\n",
        "os.environ[\"JAVA_HOME\"] = \"/usr/lib/jvm/java-11-openjdk-amd64\"\n",
        "os.environ[\"SPARK_HOME\"] = f\"/content/{spark_version}-bin-hadoop2.7\"\n",
        "\n",
        "# Start a SparkSession\n",
        "import findspark\n",
        "findspark.init()"
      ]
    },
    {
      "cell_type": "code",
      "source": [
        "# Download the Postgres driver that will allow Spark to interact with Postgres.\n",
        "!wget https://jdbc.postgresql.org/download/postgresql-42.2.16.jar"
      ],
      "metadata": {
        "colab": {
          "base_uri": "https://localhost:8080/"
        },
        "id": "h9tcz_8lvsNm",
        "outputId": "e4a67876-f48c-4c8e-bcac-ce0ba2649546"
      },
      "execution_count": 2,
      "outputs": [
        {
          "output_type": "stream",
          "name": "stdout",
          "text": [
            "--2022-09-26 03:02:17--  https://jdbc.postgresql.org/download/postgresql-42.2.16.jar\n",
            "Resolving jdbc.postgresql.org (jdbc.postgresql.org)... 72.32.157.228, 2001:4800:3e1:1::228\n",
            "Connecting to jdbc.postgresql.org (jdbc.postgresql.org)|72.32.157.228|:443... connected.\n",
            "HTTP request sent, awaiting response... 200 OK\n",
            "Length: 1002883 (979K) [application/java-archive]\n",
            "Saving to: ‘postgresql-42.2.16.jar’\n",
            "\n",
            "postgresql-42.2.16. 100%[===================>] 979.38K  4.91MB/s    in 0.2s    \n",
            "\n",
            "2022-09-26 03:02:17 (4.91 MB/s) - ‘postgresql-42.2.16.jar’ saved [1002883/1002883]\n",
            "\n"
          ]
        }
      ]
    },
    {
      "cell_type": "code",
      "source": [
        "# Start SparkSession\n",
        "from pyspark.sql import SparkSession\n",
        "spark = SparkSession.builder.appName(\"M16-Amazon-Challenge\").config(\"spark.driver.extraClassPath\",\"/content/postgresql-42.2.16.jar\").getOrCreate()"
      ],
      "metadata": {
        "id": "fuHyCg5QvwmV"
      },
      "execution_count": 3,
      "outputs": []
    },
    {
      "cell_type": "code",
      "source": [
        "from pyspark import SparkFiles\n",
        "url = \"https://misse-bucket.s3.us-west-2.amazonaws.com/amazon_reviews_multilingual_US_v1_00.tsv.gz\"\n",
        "spark.sparkContext.addFile(url)\n",
        "df = spark.read.option(\"encoding\", \"UTF-8\").csv(SparkFiles.get(\"amazon_reviews_multilingual_US_v1_00.tsv.gz\"), sep=\"\\t\", header=True, inferSchema=True)\n",
        "df.show()"
      ],
      "metadata": {
        "colab": {
          "base_uri": "https://localhost:8080/"
        },
        "id": "KUTnu10fv7N9",
        "outputId": "96e2a560-e056-4158-e05d-a2e330a77505"
      },
      "execution_count": 4,
      "outputs": [
        {
          "output_type": "stream",
          "name": "stdout",
          "text": [
            "+-----------+-----------+--------------+----------+--------------+--------------------+----------------+-----------+-------------+-----------+----+-----------------+--------------------+--------------------+-----------+\n",
            "|marketplace|customer_id|     review_id|product_id|product_parent|       product_title|product_category|star_rating|helpful_votes|total_votes|vine|verified_purchase|     review_headline|         review_body|review_date|\n",
            "+-----------+-----------+--------------+----------+--------------+--------------------+----------------+-----------+-------------+-----------+----+-----------------+--------------------+--------------------+-----------+\n",
            "|         US|   53096384| R63J84G1LOX6R|1563890119|     763187671|The Sandman Vol. ...|           Books|          4|            0|          1|   N|                N|ignore the review...|this is the first...| 1995-08-13|\n",
            "|         US|   53096399|R1BALOA11Z06MT|1559947608|     381720534|The 22 Immutable ...|           Books|          4|            0|          0|   N|                N|             awesome|I've always been ...| 1995-08-17|\n",
            "|         US|   53096332|R1LLAY5W5PZUS4|0671701800|     860650224|             Contact|           Books|          5|            1|          2|   N|                N|Read the book. It...|This is a book ab...| 1995-08-30|\n",
            "|         US|   53096335|R3R9VTJ82FXECQ|0425132153|     624269601|          Good Omens|           Books|          5|            0|          0|   N|                N|Funniest book eve...|This is quite pos...| 1995-09-11|\n",
            "|         US|   51747709|R1P5J3FNBWTFXY|0517122707|     161411385|A Confederacy of ...|           Books|          5|            0|          0|   N|                N|A winner that did...|The story behind ...| 1995-10-17|\n",
            "|         US|   53095881|R2XQTCOBWNCEAC|0345350499|     627223385| The Mists of Avalon|           Books|          5|            0|          0|   N|                N|One of the best b...|Marion Zimmer Bra...| 1995-11-02|\n",
            "|         US|   53096485|  R87VUTMFOE6N|B000002OTL|     877615083|Pulp Fiction: Mus...|           Music|          5|            0|          1|   N|                N|Pulp Fiction Soun...|Pulp Fiction the ...| 1995-11-11|\n",
            "|         US|   53096485| RVS529AN21RR3|6302136105|     701401373|     The Doors [VHS]|           Video|          5|            1|          2|   N|                N|The Doors: The be...|The Doors is one ...| 1995-11-11|\n",
            "|         US|   53095748| RG6LPC4W8LN29|0399134204|      31287929|   The Joy Luck Club|           Books|          5|            0|          1|   N|                N|Gives a deeper un...|The book in some ...| 1995-11-15|\n",
            "|         US|   53071277| RDFIE1IF0IYFH|0887306667|     381720534|The 22 Immutable ...|           Books|          5|            0|          0|   N|                N|One of the best m...|This book is a fa...| 1996-05-12|\n",
            "|         US|   53092169|R118UFZDTS9K8P|044022165X|     511419057|       The Rainmaker|           Books|          5|            2|          2|   N|                N|A definite page t...|John Grisham's Th...| 1996-05-15|\n",
            "|         US|   53091057|R3M7XTU4Y95NV6|0425107469|      50861192|            Watchers|           Books|          5|            1|          2|   N|                N|The best book tha...|This was my first...| 1996-05-17|\n",
            "|         US|   53092180|R1KLWU5B78FKDR|0880389052|     243097701|Homeland (Forgott...|           Books|          5|            1|          1|   N|                N|Homeland is the b...|I usually don't l...| 1996-05-17|\n",
            "|         US|   53068480|R1BGW1GTUGJZXJ|0446310786|     994527755|To Kill a Mocking...|           Books|          5|            0|          1|   N|                N|Extraordinary sto...|On the surface, f...| 1996-05-18|\n",
            "|         US|   53092058| R5UI1Q87QAZKH|0385040199|     636860937|Anne Frank: Diary...|           Books|          5|            1|          1|   N|                N|How do you review...|How do you review...| 1996-05-19|\n",
            "|         US|   52152881| R4X9DR0KSYFXD|B000001FBU|     880908728|Creatures of the ...|           Music|          4|            1|          1|   N|                N|Kiss' return to h...|After briefly vis...| 1996-05-20|\n",
            "|         US|   53091884|R1TOE3LHCXE3DO|0679731377|      62087535|A History of the ...|           Books|          5|            0|          0|   N|                N|The best book I'v...|Barnes is a true ...| 1996-05-21|\n",
            "|         US|   53093609|R3IME3JO53P3EM|0451169514|     380266608|                  It|           Books|          5|            1|          1|   N|                N|One of Stephen Ki...|I have to say, th...| 1996-05-22|\n",
            "|         US|   53081592| R63DTB2NEMWYE|0316920045|     669738240|Infinite Jest: A ...|           Books|          5|            0|          1|   N|                N|Infinite Jest: I'...|I've been waiting...| 1996-05-23|\n",
            "|         US|   52510867|R1PY156QM1IKZN|0451175123|     594264062|The Fountainhead:...|           Books|          5|            0|          0|   N|                N|Powerful work of ...|Ayn Rand was the ...| 1996-05-23|\n",
            "+-----------+-----------+--------------+----------+--------------+--------------------+----------------+-----------+-------------+-----------+----+-----------------+--------------------+--------------------+-----------+\n",
            "only showing top 20 rows\n",
            "\n"
          ]
        }
      ]
    },
    {
      "cell_type": "code",
      "source": [
        "from pyspark.sql.functions import to_date\n",
        "# Read in the Review dataset as a DataFrame\n",
        "df = spark.read.csv(SparkFiles.get(\"amazon_reviews_multilingual_US_v1_00.tsv.gz\"), sep=\"\\t\", header=True, inferSchema=True)\n",
        "df.show()"
      ],
      "metadata": {
        "colab": {
          "base_uri": "https://localhost:8080/"
        },
        "id": "Nd8fEbQTwfPF",
        "outputId": "7280e9ba-ffa5-41c7-9162-2d6cb127c175"
      },
      "execution_count": 5,
      "outputs": [
        {
          "output_type": "stream",
          "name": "stdout",
          "text": [
            "+-----------+-----------+--------------+----------+--------------+--------------------+----------------+-----------+-------------+-----------+----+-----------------+--------------------+--------------------+-----------+\n",
            "|marketplace|customer_id|     review_id|product_id|product_parent|       product_title|product_category|star_rating|helpful_votes|total_votes|vine|verified_purchase|     review_headline|         review_body|review_date|\n",
            "+-----------+-----------+--------------+----------+--------------+--------------------+----------------+-----------+-------------+-----------+----+-----------------+--------------------+--------------------+-----------+\n",
            "|         US|   53096384| R63J84G1LOX6R|1563890119|     763187671|The Sandman Vol. ...|           Books|          4|            0|          1|   N|                N|ignore the review...|this is the first...| 1995-08-13|\n",
            "|         US|   53096399|R1BALOA11Z06MT|1559947608|     381720534|The 22 Immutable ...|           Books|          4|            0|          0|   N|                N|             awesome|I've always been ...| 1995-08-17|\n",
            "|         US|   53096332|R1LLAY5W5PZUS4|0671701800|     860650224|             Contact|           Books|          5|            1|          2|   N|                N|Read the book. It...|This is a book ab...| 1995-08-30|\n",
            "|         US|   53096335|R3R9VTJ82FXECQ|0425132153|     624269601|          Good Omens|           Books|          5|            0|          0|   N|                N|Funniest book eve...|This is quite pos...| 1995-09-11|\n",
            "|         US|   51747709|R1P5J3FNBWTFXY|0517122707|     161411385|A Confederacy of ...|           Books|          5|            0|          0|   N|                N|A winner that did...|The story behind ...| 1995-10-17|\n",
            "|         US|   53095881|R2XQTCOBWNCEAC|0345350499|     627223385| The Mists of Avalon|           Books|          5|            0|          0|   N|                N|One of the best b...|Marion Zimmer Bra...| 1995-11-02|\n",
            "|         US|   53096485|  R87VUTMFOE6N|B000002OTL|     877615083|Pulp Fiction: Mus...|           Music|          5|            0|          1|   N|                N|Pulp Fiction Soun...|Pulp Fiction the ...| 1995-11-11|\n",
            "|         US|   53096485| RVS529AN21RR3|6302136105|     701401373|     The Doors [VHS]|           Video|          5|            1|          2|   N|                N|The Doors: The be...|The Doors is one ...| 1995-11-11|\n",
            "|         US|   53095748| RG6LPC4W8LN29|0399134204|      31287929|   The Joy Luck Club|           Books|          5|            0|          1|   N|                N|Gives a deeper un...|The book in some ...| 1995-11-15|\n",
            "|         US|   53071277| RDFIE1IF0IYFH|0887306667|     381720534|The 22 Immutable ...|           Books|          5|            0|          0|   N|                N|One of the best m...|This book is a fa...| 1996-05-12|\n",
            "|         US|   53092169|R118UFZDTS9K8P|044022165X|     511419057|       The Rainmaker|           Books|          5|            2|          2|   N|                N|A definite page t...|John Grisham's Th...| 1996-05-15|\n",
            "|         US|   53091057|R3M7XTU4Y95NV6|0425107469|      50861192|            Watchers|           Books|          5|            1|          2|   N|                N|The best book tha...|This was my first...| 1996-05-17|\n",
            "|         US|   53092180|R1KLWU5B78FKDR|0880389052|     243097701|Homeland (Forgott...|           Books|          5|            1|          1|   N|                N|Homeland is the b...|I usually don't l...| 1996-05-17|\n",
            "|         US|   53068480|R1BGW1GTUGJZXJ|0446310786|     994527755|To Kill a Mocking...|           Books|          5|            0|          1|   N|                N|Extraordinary sto...|On the surface, f...| 1996-05-18|\n",
            "|         US|   53092058| R5UI1Q87QAZKH|0385040199|     636860937|Anne Frank: Diary...|           Books|          5|            1|          1|   N|                N|How do you review...|How do you review...| 1996-05-19|\n",
            "|         US|   52152881| R4X9DR0KSYFXD|B000001FBU|     880908728|Creatures of the ...|           Music|          4|            1|          1|   N|                N|Kiss' return to h...|After briefly vis...| 1996-05-20|\n",
            "|         US|   53091884|R1TOE3LHCXE3DO|0679731377|      62087535|A History of the ...|           Books|          5|            0|          0|   N|                N|The best book I'v...|Barnes is a true ...| 1996-05-21|\n",
            "|         US|   53093609|R3IME3JO53P3EM|0451169514|     380266608|                  It|           Books|          5|            1|          1|   N|                N|One of Stephen Ki...|I have to say, th...| 1996-05-22|\n",
            "|         US|   53081592| R63DTB2NEMWYE|0316920045|     669738240|Infinite Jest: A ...|           Books|          5|            0|          1|   N|                N|Infinite Jest: I'...|I've been waiting...| 1996-05-23|\n",
            "|         US|   52510867|R1PY156QM1IKZN|0451175123|     594264062|The Fountainhead:...|           Books|          5|            0|          0|   N|                N|Powerful work of ...|Ayn Rand was the ...| 1996-05-23|\n",
            "+-----------+-----------+--------------+----------+--------------+--------------------+----------------+-----------+-------------+-----------+----+-----------------+--------------------+--------------------+-----------+\n",
            "only showing top 20 rows\n",
            "\n"
          ]
        }
      ]
    },
    {
      "cell_type": "code",
      "source": [
        "# Create the vine_table. DataFrame\n",
        "vine_df = df.select([\"review_id\", \"star_rating\", \"helpful_votes\", \"total_votes\", \"vine\", \"verified_purchase\"]).drop_duplicates()\n",
        "vine_df.show(20)"
      ],
      "metadata": {
        "colab": {
          "base_uri": "https://localhost:8080/"
        },
        "id": "8UXRHcgOw1CG",
        "outputId": "588aa581-e060-43f0-ccba-c055b2b4f03a"
      },
      "execution_count": 6,
      "outputs": [
        {
          "output_type": "stream",
          "name": "stdout",
          "text": [
            "+--------------+-----------+-------------+-----------+----+-----------------+\n",
            "|     review_id|star_rating|helpful_votes|total_votes|vine|verified_purchase|\n",
            "+--------------+-----------+-------------+-----------+----+-----------------+\n",
            "|R100AXNMFVACPY|          2|            4|          7|   N|                N|\n",
            "|R100DRQ6Z1C6D6|          5|            0|          0|   N|                Y|\n",
            "|R100LZZVTVLB08|          1|            7|         16|   N|                N|\n",
            "|R100UUK035JD4E|          5|            0|          0|   N|                Y|\n",
            "|R100W7NQZM08J5|          4|            1|          1|   N|                Y|\n",
            "|R100ZB7HIXV0OZ|          4|            0|          0|   N|                N|\n",
            "|R1012NLMFN5M2V|          1|            0|          1|   N|                Y|\n",
            "|R101AGLAQ7TCAF|          5|            0|          0|   N|                Y|\n",
            "|R101DTK4EQVPA7|          5|            0|          1|   N|                Y|\n",
            "|R101KI89GF1VUT|          5|            0|          0|   N|                Y|\n",
            "|R101VE9TO2WYXN|          5|            0|          0|   N|                Y|\n",
            "|R101WJ69POL9UK|          1|            8|         12|   N|                Y|\n",
            "|R10214VCH7XGLK|          5|            1|          1|   N|                Y|\n",
            "|R1021RE19EXKS3|          5|            0|          0|   N|                Y|\n",
            "|R1023JSCWQNX7M|          1|            1|          1|   N|                N|\n",
            "|R102EYI0ICOCRE|          3|            0|          0|   N|                Y|\n",
            "|R102F0UVY5XZ08|          5|            0|          0|   N|                Y|\n",
            "|R102JBXUKWB63I|          5|           14|         14|   N|                Y|\n",
            "|R102LDML66I2LP|          5|            0|          0|   N|                Y|\n",
            "|R102WUSG8EIO1P|          3|            2|          3|   N|                Y|\n",
            "+--------------+-----------+-------------+-----------+----+-----------------+\n",
            "only showing top 20 rows\n",
            "\n"
          ]
        }
      ]
    },
    {
      "cell_type": "code",
      "source": [
        "# Create the total_votes DataFrame\n",
        "total_votes_df = vine_df.filter(\"total_votes >=20\")\n",
        "total_votes_df.show(20)"
      ],
      "metadata": {
        "colab": {
          "base_uri": "https://localhost:8080/"
        },
        "id": "rjh1VxSgxrBR",
        "outputId": "493b9d79-8a69-4bd7-fddd-43a5518bd7bb"
      },
      "execution_count": 7,
      "outputs": [
        {
          "output_type": "stream",
          "name": "stdout",
          "text": [
            "+--------------+-----------+-------------+-----------+----+-----------------+\n",
            "|     review_id|star_rating|helpful_votes|total_votes|vine|verified_purchase|\n",
            "+--------------+-----------+-------------+-----------+----+-----------------+\n",
            "|R2GEGEK0MS1XYM|          4|           33|         39|   N|                Y|\n",
            "|R2Q75G45MBFFJJ|          1|            8|         31|   N|                N|\n",
            "|R2SX2FJQJNA6EV|          5|           34|         35|   N|                N|\n",
            "|R1Z17CVFBXSY5R|          1|           16|         36|   N|                N|\n",
            "|R37D6LJ0IEDGGW|          5|          117|        122|   N|                N|\n",
            "|R22UI1T5VE6LPR|          5|           82|         88|   N|                N|\n",
            "| RY2CNB5SBU6UH|          5|           21|         24|   N|                N|\n",
            "|R3NWAZ5RPHWCH3|          1|           28|         30|   N|                N|\n",
            "|R2LB86QZF54NQP|          1|            3|         27|   N|                N|\n",
            "|R2OJ5QCBMH58YS|          2|            2|         21|   N|                N|\n",
            "| RDXNOF27OF9DE|          5|           43|         47|   N|                N|\n",
            "|R2X36RX301LIAH|          5|           26|         29|   N|                N|\n",
            "|R3FCV5LT711RMH|          5|            9|         33|   N|                N|\n",
            "|R20H8X4Z7W211Z|          2|            4|         27|   N|                N|\n",
            "| RBZOMWYAO8C96|          1|            6|         58|   N|                N|\n",
            "|R23M1NGU7MLAJ7|          4|           30|         32|   N|                N|\n",
            "|R35M6B2YNBSYTI|          3|           19|         35|   N|                N|\n",
            "| RQ39AH9MHI84P|          3|           12|         36|   N|                N|\n",
            "|R3V5T0VS379U6H|          1|            1|         63|   N|                N|\n",
            "|R16PBK89MI9R41|          1|            4|         21|   N|                N|\n",
            "+--------------+-----------+-------------+-----------+----+-----------------+\n",
            "only showing top 20 rows\n",
            "\n"
          ]
        }
      ]
    },
    {
      "cell_type": "code",
      "source": [
        "# Filter dataset and create total_votes DataFrame where total_votes greater than or equal to 20\n",
        "total_votes_df = vine_df.filter(vine_df[\"total_votes\"] >=20)\n",
        "total_votes_df.show(20)"
      ],
      "metadata": {
        "colab": {
          "base_uri": "https://localhost:8080/"
        },
        "id": "izGtHuMXGdZ3",
        "outputId": "8933785b-bbeb-48aa-d808-49889d224189"
      },
      "execution_count": 40,
      "outputs": [
        {
          "output_type": "stream",
          "name": "stdout",
          "text": [
            "+--------------+-----------+-------------+-----------+----+-----------------+\n",
            "|     review_id|star_rating|helpful_votes|total_votes|vine|verified_purchase|\n",
            "+--------------+-----------+-------------+-----------+----+-----------------+\n",
            "|R2GEGEK0MS1XYM|          4|           33|         39|   N|                Y|\n",
            "|R2Q75G45MBFFJJ|          1|            8|         31|   N|                N|\n",
            "|R2SX2FJQJNA6EV|          5|           34|         35|   N|                N|\n",
            "|R1Z17CVFBXSY5R|          1|           16|         36|   N|                N|\n",
            "|R37D6LJ0IEDGGW|          5|          117|        122|   N|                N|\n",
            "|R22UI1T5VE6LPR|          5|           82|         88|   N|                N|\n",
            "| RY2CNB5SBU6UH|          5|           21|         24|   N|                N|\n",
            "|R3NWAZ5RPHWCH3|          1|           28|         30|   N|                N|\n",
            "|R2LB86QZF54NQP|          1|            3|         27|   N|                N|\n",
            "|R2OJ5QCBMH58YS|          2|            2|         21|   N|                N|\n",
            "| RDXNOF27OF9DE|          5|           43|         47|   N|                N|\n",
            "|R2X36RX301LIAH|          5|           26|         29|   N|                N|\n",
            "|R3FCV5LT711RMH|          5|            9|         33|   N|                N|\n",
            "|R20H8X4Z7W211Z|          2|            4|         27|   N|                N|\n",
            "| RBZOMWYAO8C96|          1|            6|         58|   N|                N|\n",
            "|R23M1NGU7MLAJ7|          4|           30|         32|   N|                N|\n",
            "|R35M6B2YNBSYTI|          3|           19|         35|   N|                N|\n",
            "| RQ39AH9MHI84P|          3|           12|         36|   N|                N|\n",
            "|R3V5T0VS379U6H|          1|            1|         63|   N|                N|\n",
            "|R16PBK89MI9R41|          1|            4|         21|   N|                N|\n",
            "+--------------+-----------+-------------+-----------+----+-----------------+\n",
            "only showing top 20 rows\n",
            "\n"
          ]
        }
      ]
    },
    {
      "cell_type": "code",
      "source": [
        "# Filter total_votes DataFrame and divide helpful_votes by total_votes which is equal to or greater than 50%\n",
        "helpful_votes_df = total_votes_df.filter(total_votes_df['helpful_votes']/total_votes_df['total_votes'] >= 0.5)\n",
        "helpful_votes_df.show(10)"
      ],
      "metadata": {
        "colab": {
          "base_uri": "https://localhost:8080/"
        },
        "id": "80RrdLT-HnRe",
        "outputId": "064ad462-3ab8-4987-a8ba-0046ed685e9f"
      },
      "execution_count": 54,
      "outputs": [
        {
          "output_type": "stream",
          "name": "stdout",
          "text": [
            "+--------------+-----------+-------------+-----------+----+-----------------+\n",
            "|     review_id|star_rating|helpful_votes|total_votes|vine|verified_purchase|\n",
            "+--------------+-----------+-------------+-----------+----+-----------------+\n",
            "|R2GEGEK0MS1XYM|          4|           33|         39|   N|                Y|\n",
            "|R2SX2FJQJNA6EV|          5|           34|         35|   N|                N|\n",
            "|R37D6LJ0IEDGGW|          5|          117|        122|   N|                N|\n",
            "|R22UI1T5VE6LPR|          5|           82|         88|   N|                N|\n",
            "| RY2CNB5SBU6UH|          5|           21|         24|   N|                N|\n",
            "|R3NWAZ5RPHWCH3|          1|           28|         30|   N|                N|\n",
            "| RDXNOF27OF9DE|          5|           43|         47|   N|                N|\n",
            "|R2X36RX301LIAH|          5|           26|         29|   N|                N|\n",
            "|R23M1NGU7MLAJ7|          4|           30|         32|   N|                N|\n",
            "|R35M6B2YNBSYTI|          3|           19|         35|   N|                N|\n",
            "+--------------+-----------+-------------+-----------+----+-----------------+\n",
            "only showing top 10 rows\n",
            "\n"
          ]
        }
      ]
    },
    {
      "cell_type": "code",
      "source": [
        "# Filter helpful_votes DataFrame and retrieve reviews that were paid\n",
        "paid_df = helpful_votes_df.filter(helpful_votes_df[\"vine\"] == 'Y')\n",
        "paid_df.show(10)"
      ],
      "metadata": {
        "colab": {
          "base_uri": "https://localhost:8080/"
        },
        "id": "r9mGOtx7JLud",
        "outputId": "42924c01-cf86-4a53-9c79-0c645a2404f5"
      },
      "execution_count": 55,
      "outputs": [
        {
          "output_type": "stream",
          "name": "stdout",
          "text": [
            "+--------------+-----------+-------------+-----------+----+-----------------+\n",
            "|     review_id|star_rating|helpful_votes|total_votes|vine|verified_purchase|\n",
            "+--------------+-----------+-------------+-----------+----+-----------------+\n",
            "|R2OUE8JITCXDZW|          4|           43|         46|   Y|                N|\n",
            "|R1O29Y6ITFVYZC|          4|           38|         41|   Y|                N|\n",
            "|R3CHEUY88EA4QH|          4|           54|         78|   Y|                N|\n",
            "| R8N3SFC5CGAR4|          5|           17|         21|   Y|                N|\n",
            "|  RV8FVXVWTEAX|          4|           97|        107|   Y|                N|\n",
            "|R34IMC0WG84MMB|          5|           34|         39|   Y|                N|\n",
            "|R21P35ZHD7MCY4|          1|           14|         25|   Y|                N|\n",
            "|R3OKAQQU6FGJQU|          5|          318|        344|   Y|                N|\n",
            "|R2N88D7RW8J5V9|          2|           28|         47|   Y|                N|\n",
            "|R2UOQQOSMCCJ1U|          5|           20|         26|   Y|                N|\n",
            "+--------------+-----------+-------------+-----------+----+-----------------+\n",
            "only showing top 10 rows\n",
            "\n"
          ]
        }
      ]
    },
    {
      "cell_type": "code",
      "source": [
        "# Filter helpful_votes DataFrame and retrieve reviews that were unpaid\n",
        "unpaid_df = helpful_votes_df.filter(helpful_votes_df[\"vine\"] == 'N')\n",
        "unpaid_df.show(10)"
      ],
      "metadata": {
        "colab": {
          "base_uri": "https://localhost:8080/"
        },
        "id": "7Py-tvxEJn4V",
        "outputId": "be15cb74-810f-4735-e39f-30f9902cd348"
      },
      "execution_count": 46,
      "outputs": [
        {
          "output_type": "stream",
          "name": "stdout",
          "text": [
            "+--------------+-----------+-------------+-----------+----+-----------------+\n",
            "|     review_id|star_rating|helpful_votes|total_votes|vine|verified_purchase|\n",
            "+--------------+-----------+-------------+-----------+----+-----------------+\n",
            "|R2GEGEK0MS1XYM|          4|           33|         39|   N|                Y|\n",
            "|R2SX2FJQJNA6EV|          5|           34|         35|   N|                N|\n",
            "|R37D6LJ0IEDGGW|          5|          117|        122|   N|                N|\n",
            "|R22UI1T5VE6LPR|          5|           82|         88|   N|                N|\n",
            "| RY2CNB5SBU6UH|          5|           21|         24|   N|                N|\n",
            "|R3NWAZ5RPHWCH3|          1|           28|         30|   N|                N|\n",
            "| RDXNOF27OF9DE|          5|           43|         47|   N|                N|\n",
            "|R2X36RX301LIAH|          5|           26|         29|   N|                N|\n",
            "|R23M1NGU7MLAJ7|          4|           30|         32|   N|                N|\n",
            "|R35M6B2YNBSYTI|          3|           19|         35|   N|                N|\n",
            "+--------------+-----------+-------------+-----------+----+-----------------+\n",
            "only showing top 10 rows\n",
            "\n"
          ]
        }
      ]
    },
    {
      "cell_type": "code",
      "source": [
        "# Determine the total numnber of reviews and paid 5 stars\n",
        "paid_start_5 = paid_df[paid_df[\"star_rating\"]==5].count()\n",
        "all_count_df_paid = paid_df.count()"
      ],
      "metadata": {
        "id": "ECsp-qprJrY7"
      },
      "execution_count": 49,
      "outputs": []
    },
    {
      "cell_type": "code",
      "source": [
        "# Determine the total numnber of reviews and unpaid 5 stars\n",
        "unpaid_start_5 = unpaid_df[unpaid_df[\"star_rating\"]==5].count()\n",
        "all_count_df_unpaid = unpaid_df.count()"
      ],
      "metadata": {
        "id": "6UdWVhBMLA_2"
      },
      "execution_count": 50,
      "outputs": []
    },
    {
      "cell_type": "code",
      "source": [
        "# print percentage of paid five stars by total number of reviews of paid\n",
        "print(float(paid_start_5)/float(all_count_df_paid))"
      ],
      "metadata": {
        "colab": {
          "base_uri": "https://localhost:8080/"
        },
        "id": "0xHsZ3UxLth6",
        "outputId": "82dd3665-9f8f-47f2-9fe6-641bd88e3978"
      },
      "execution_count": 51,
      "outputs": [
        {
          "output_type": "stream",
          "name": "stdout",
          "text": [
            "0.4438305709023941\n"
          ]
        }
      ]
    },
    {
      "cell_type": "code",
      "source": [
        "# print percentage of unpaid five stars by total number of reviews of unpaid\n",
        "print(float(unpaid_start_5)/float(all_count_df_unpaid))"
      ],
      "metadata": {
        "colab": {
          "base_uri": "https://localhost:8080/"
        },
        "id": "Y9piwuU9MQ5Y",
        "outputId": "7a086df7-9e45-4386-a141-b698302c598e"
      },
      "execution_count": 52,
      "outputs": [
        {
          "output_type": "stream",
          "name": "stdout",
          "text": [
            "0.4627093251066018\n"
          ]
        }
      ]
    }
  ]
}