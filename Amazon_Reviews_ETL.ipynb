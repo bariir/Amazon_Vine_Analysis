{
  "cells": [
    {
      "cell_type": "code",
      "execution_count": null,
      "metadata": {
        "colab": {
          "base_uri": "https://localhost:8080/"
        },
        "id": "V58rxea0HqSa",
        "outputId": "1a2797de-3be5-422a-9535-bda494716290"
      },
      "outputs": [
        {
          "name": "stdout",
          "output_type": "stream",
          "text": [
            "Get:1 https://cloud.r-project.org/bin/linux/ubuntu bionic-cran40/ InRelease [3,626 B]\n",
            "Ign:2 https://developer.download.nvidia.com/compute/machine-learning/repos/ubuntu1804/x86_64  InRelease\n",
            "Hit:3 https://developer.download.nvidia.com/compute/cuda/repos/ubuntu1804/x86_64  InRelease\n",
            "Hit:4 https://developer.download.nvidia.com/compute/machine-learning/repos/ubuntu1804/x86_64  Release\n",
            "Get:5 http://security.ubuntu.com/ubuntu bionic-security InRelease [88.7 kB]\n",
            "Hit:6 http://archive.ubuntu.com/ubuntu bionic InRelease\n",
            "Get:7 http://ppa.launchpad.net/c2d4u.team/c2d4u4.0+/ubuntu bionic InRelease [15.9 kB]\n",
            "Get:9 http://archive.ubuntu.com/ubuntu bionic-updates InRelease [88.7 kB]\n",
            "Hit:10 http://ppa.launchpad.net/cran/libgit2/ubuntu bionic InRelease\n",
            "Get:11 http://archive.ubuntu.com/ubuntu bionic-backports InRelease [83.3 kB]\n",
            "Get:12 http://security.ubuntu.com/ubuntu bionic-security/universe amd64 Packages [1,545 kB]\n",
            "Hit:13 http://ppa.launchpad.net/deadsnakes/ppa/ubuntu bionic InRelease\n",
            "Get:14 http://archive.ubuntu.com/ubuntu bionic-updates/main amd64 Packages [3,422 kB]\n",
            "Hit:15 http://ppa.launchpad.net/graphics-drivers/ppa/ubuntu bionic InRelease\n",
            "Get:16 http://ppa.launchpad.net/c2d4u.team/c2d4u4.0+/ubuntu bionic/main amd64 Packages [1,080 kB]\n",
            "Get:17 http://security.ubuntu.com/ubuntu bionic-security/main amd64 Packages [2,990 kB]\n",
            "Get:18 http://archive.ubuntu.com/ubuntu bionic-updates/universe amd64 Packages [2,322 kB]\n",
            "Get:19 http://archive.ubuntu.com/ubuntu bionic-backports/universe amd64 Packages [20.6 kB]\n",
            "Get:20 http://archive.ubuntu.com/ubuntu bionic-backports/main amd64 Packages [64.0 kB]\n",
            "Fetched 11.7 MB in 4s (2,790 kB/s)\n",
            "Reading package lists... Done\n"
          ]
        }
      ],
      "source": [
        "import os\n",
        "# Find the latest version of spark 3.0 from http://www.apache.org/dist/spark/ and enter as the spark version\n",
        "# For example:\n",
        "# spark_version = 'spark-3.0.3'\n",
        "spark_version = 'spark-3.2.2'\n",
        "os.environ['SPARK_VERSION']=spark_version\n",
        "\n",
        "# Install Spark and Java\n",
        "!apt-get update\n",
        "!apt-get install openjdk-11-jdk-headless -qq > /dev/null\n",
        "!wget -q http://www.apache.org/dist/spark/$SPARK_VERSION/$SPARK_VERSION-bin-hadoop2.7.tgz\n",
        "!tar xf $SPARK_VERSION-bin-hadoop2.7.tgz\n",
        "!pip install -q findspark\n",
        "\n",
        "# Set Environment Variables\n",
        "import os\n",
        "os.environ[\"JAVA_HOME\"] = \"/usr/lib/jvm/java-11-openjdk-amd64\"\n",
        "os.environ[\"SPARK_HOME\"] = f\"/content/{spark_version}-bin-hadoop2.7\"\n",
        "\n",
        "# Start a SparkSession\n",
        "import findspark\n",
        "findspark.init()"
      ]
    },
    {
      "cell_type": "code",
      "execution_count": null,
      "metadata": {
        "colab": {
          "base_uri": "https://localhost:8080/"
        },
        "id": "_xKwTpATHqSe",
        "outputId": "6795b914-8411-4417-9496-aae560317dc5"
      },
      "outputs": [
        {
          "name": "stdout",
          "output_type": "stream",
          "text": [
            "--2022-09-25 02:48:17--  https://jdbc.postgresql.org/download/postgresql-42.2.16.jar\n",
            "Resolving jdbc.postgresql.org (jdbc.postgresql.org)... 72.32.157.228, 2001:4800:3e1:1::228\n",
            "Connecting to jdbc.postgresql.org (jdbc.postgresql.org)|72.32.157.228|:443... connected.\n",
            "HTTP request sent, awaiting response... 200 OK\n",
            "Length: 1002883 (979K) [application/java-archive]\n",
            "Saving to: ‘postgresql-42.2.16.jar’\n",
            "\n",
            "postgresql-42.2.16. 100%[===================>] 979.38K  1.18MB/s    in 0.8s    \n",
            "\n",
            "2022-09-25 02:48:19 (1.18 MB/s) - ‘postgresql-42.2.16.jar’ saved [1002883/1002883]\n",
            "\n"
          ]
        }
      ],
      "source": [
        "# Download the Postgres driver that will allow Spark to interact with Postgres.\n",
        "!wget https://jdbc.postgresql.org/download/postgresql-42.2.16.jar"
      ]
    },
    {
      "cell_type": "code",
      "execution_count": null,
      "metadata": {
        "id": "MMqDAjVS0KN9"
      },
      "outputs": [],
      "source": [
        "# Start SparkSession\n",
        "from pyspark.sql import SparkSession\n",
        "spark = SparkSession.builder.appName(\"M16-Amazon-Challenge\").config(\"spark.driver.extraClassPath\",\"/content/postgresql-42.2.16.jar\").getOrCreate()"
      ]
    },
    {
      "cell_type": "markdown",
      "metadata": {
        "id": "cyBsySGuY-9V"
      },
      "source": [
        "### Load Amazon Data into Spark DataFrame"
      ]
    },
    {
      "cell_type": "code",
      "execution_count": null,
      "metadata": {
        "colab": {
          "base_uri": "https://localhost:8080/"
        },
        "id": "CtCmBhQJY-9Z",
        "outputId": "ce1d0685-16f4-4e1c-e3ff-788d21614e41"
      },
      "outputs": [
        {
          "name": "stdout",
          "output_type": "stream",
          "text": [
            "+-----------+-----------+--------------+----------+--------------+--------------------+----------------+-----------+-------------+-----------+----+-----------------+--------------------+--------------------+-----------+\n",
            "|marketplace|customer_id|     review_id|product_id|product_parent|       product_title|product_category|star_rating|helpful_votes|total_votes|vine|verified_purchase|     review_headline|         review_body|review_date|\n",
            "+-----------+-----------+--------------+----------+--------------+--------------------+----------------+-----------+-------------+-----------+----+-----------------+--------------------+--------------------+-----------+\n",
            "|         US|   53096384| R63J84G1LOX6R|1563890119|     763187671|The Sandman Vol. ...|           Books|          4|            0|          1|   N|                N|ignore the review...|this is the first...| 1995-08-13|\n",
            "|         US|   53096399|R1BALOA11Z06MT|1559947608|     381720534|The 22 Immutable ...|           Books|          4|            0|          0|   N|                N|             awesome|I've always been ...| 1995-08-17|\n",
            "|         US|   53096332|R1LLAY5W5PZUS4|0671701800|     860650224|             Contact|           Books|          5|            1|          2|   N|                N|Read the book. It...|This is a book ab...| 1995-08-30|\n",
            "|         US|   53096335|R3R9VTJ82FXECQ|0425132153|     624269601|          Good Omens|           Books|          5|            0|          0|   N|                N|Funniest book eve...|This is quite pos...| 1995-09-11|\n",
            "|         US|   51747709|R1P5J3FNBWTFXY|0517122707|     161411385|A Confederacy of ...|           Books|          5|            0|          0|   N|                N|A winner that did...|The story behind ...| 1995-10-17|\n",
            "|         US|   53095881|R2XQTCOBWNCEAC|0345350499|     627223385| The Mists of Avalon|           Books|          5|            0|          0|   N|                N|One of the best b...|Marion Zimmer Bra...| 1995-11-02|\n",
            "|         US|   53096485|  R87VUTMFOE6N|B000002OTL|     877615083|Pulp Fiction: Mus...|           Music|          5|            0|          1|   N|                N|Pulp Fiction Soun...|Pulp Fiction the ...| 1995-11-11|\n",
            "|         US|   53096485| RVS529AN21RR3|6302136105|     701401373|     The Doors [VHS]|           Video|          5|            1|          2|   N|                N|The Doors: The be...|The Doors is one ...| 1995-11-11|\n",
            "|         US|   53095748| RG6LPC4W8LN29|0399134204|      31287929|   The Joy Luck Club|           Books|          5|            0|          1|   N|                N|Gives a deeper un...|The book in some ...| 1995-11-15|\n",
            "|         US|   53071277| RDFIE1IF0IYFH|0887306667|     381720534|The 22 Immutable ...|           Books|          5|            0|          0|   N|                N|One of the best m...|This book is a fa...| 1996-05-12|\n",
            "|         US|   53092169|R118UFZDTS9K8P|044022165X|     511419057|       The Rainmaker|           Books|          5|            2|          2|   N|                N|A definite page t...|John Grisham's Th...| 1996-05-15|\n",
            "|         US|   53091057|R3M7XTU4Y95NV6|0425107469|      50861192|            Watchers|           Books|          5|            1|          2|   N|                N|The best book tha...|This was my first...| 1996-05-17|\n",
            "|         US|   53092180|R1KLWU5B78FKDR|0880389052|     243097701|Homeland (Forgott...|           Books|          5|            1|          1|   N|                N|Homeland is the b...|I usually don't l...| 1996-05-17|\n",
            "|         US|   53068480|R1BGW1GTUGJZXJ|0446310786|     994527755|To Kill a Mocking...|           Books|          5|            0|          1|   N|                N|Extraordinary sto...|On the surface, f...| 1996-05-18|\n",
            "|         US|   53092058| R5UI1Q87QAZKH|0385040199|     636860937|Anne Frank: Diary...|           Books|          5|            1|          1|   N|                N|How do you review...|How do you review...| 1996-05-19|\n",
            "|         US|   52152881| R4X9DR0KSYFXD|B000001FBU|     880908728|Creatures of the ...|           Music|          4|            1|          1|   N|                N|Kiss' return to h...|After briefly vis...| 1996-05-20|\n",
            "|         US|   53091884|R1TOE3LHCXE3DO|0679731377|      62087535|A History of the ...|           Books|          5|            0|          0|   N|                N|The best book I'v...|Barnes is a true ...| 1996-05-21|\n",
            "|         US|   53093609|R3IME3JO53P3EM|0451169514|     380266608|                  It|           Books|          5|            1|          1|   N|                N|One of Stephen Ki...|I have to say, th...| 1996-05-22|\n",
            "|         US|   53081592| R63DTB2NEMWYE|0316920045|     669738240|Infinite Jest: A ...|           Books|          5|            0|          1|   N|                N|Infinite Jest: I'...|I've been waiting...| 1996-05-23|\n",
            "|         US|   52510867|R1PY156QM1IKZN|0451175123|     594264062|The Fountainhead:...|           Books|          5|            0|          0|   N|                N|Powerful work of ...|Ayn Rand was the ...| 1996-05-23|\n",
            "+-----------+-----------+--------------+----------+--------------+--------------------+----------------+-----------+-------------+-----------+----+-----------------+--------------------+--------------------+-----------+\n",
            "only showing top 20 rows\n",
            "\n"
          ]
        }
      ],
      "source": [
        "from pyspark import SparkFiles\n",
        "url = \"https://misse-bucket.s3.us-west-2.amazonaws.com/amazon_reviews_multilingual_US_v1_00.tsv.gz\"\n",
        "spark.sparkContext.addFile(url)\n",
        "df = spark.read.option(\"encoding\", \"UTF-8\").csv(SparkFiles.get(\"amazon_reviews_multilingual_US_v1_00.tsv.gz\"), sep=\"\\t\", header=True, inferSchema=True)\n",
        "df.show()"
      ]
    },
    {
      "cell_type": "markdown",
      "metadata": {
        "id": "2yUSe55VY-9t"
      },
      "source": [
        "### Create DataFrames to match tables"
      ]
    },
    {
      "cell_type": "code",
      "execution_count": null,
      "metadata": {
        "colab": {
          "base_uri": "https://localhost:8080/"
        },
        "id": "C8REmY1aY-9u",
        "outputId": "455b16f2-c9f1-4aa9-80d3-7211fa8cd232"
      },
      "outputs": [
        {
          "name": "stdout",
          "output_type": "stream",
          "text": [
            "+-----------+-----------+--------------+----------+--------------+--------------------+----------------+-----------+-------------+-----------+----+-----------------+--------------------+--------------------+-----------+\n",
            "|marketplace|customer_id|     review_id|product_id|product_parent|       product_title|product_category|star_rating|helpful_votes|total_votes|vine|verified_purchase|     review_headline|         review_body|review_date|\n",
            "+-----------+-----------+--------------+----------+--------------+--------------------+----------------+-----------+-------------+-----------+----+-----------------+--------------------+--------------------+-----------+\n",
            "|         US|   53096384| R63J84G1LOX6R|1563890119|     763187671|The Sandman Vol. ...|           Books|          4|            0|          1|   N|                N|ignore the review...|this is the first...| 1995-08-13|\n",
            "|         US|   53096399|R1BALOA11Z06MT|1559947608|     381720534|The 22 Immutable ...|           Books|          4|            0|          0|   N|                N|             awesome|I've always been ...| 1995-08-17|\n",
            "|         US|   53096332|R1LLAY5W5PZUS4|0671701800|     860650224|             Contact|           Books|          5|            1|          2|   N|                N|Read the book. It...|This is a book ab...| 1995-08-30|\n",
            "|         US|   53096335|R3R9VTJ82FXECQ|0425132153|     624269601|          Good Omens|           Books|          5|            0|          0|   N|                N|Funniest book eve...|This is quite pos...| 1995-09-11|\n",
            "|         US|   51747709|R1P5J3FNBWTFXY|0517122707|     161411385|A Confederacy of ...|           Books|          5|            0|          0|   N|                N|A winner that did...|The story behind ...| 1995-10-17|\n",
            "|         US|   53095881|R2XQTCOBWNCEAC|0345350499|     627223385| The Mists of Avalon|           Books|          5|            0|          0|   N|                N|One of the best b...|Marion Zimmer Bra...| 1995-11-02|\n",
            "|         US|   53096485|  R87VUTMFOE6N|B000002OTL|     877615083|Pulp Fiction: Mus...|           Music|          5|            0|          1|   N|                N|Pulp Fiction Soun...|Pulp Fiction the ...| 1995-11-11|\n",
            "|         US|   53096485| RVS529AN21RR3|6302136105|     701401373|     The Doors [VHS]|           Video|          5|            1|          2|   N|                N|The Doors: The be...|The Doors is one ...| 1995-11-11|\n",
            "|         US|   53095748| RG6LPC4W8LN29|0399134204|      31287929|   The Joy Luck Club|           Books|          5|            0|          1|   N|                N|Gives a deeper un...|The book in some ...| 1995-11-15|\n",
            "|         US|   53071277| RDFIE1IF0IYFH|0887306667|     381720534|The 22 Immutable ...|           Books|          5|            0|          0|   N|                N|One of the best m...|This book is a fa...| 1996-05-12|\n",
            "|         US|   53092169|R118UFZDTS9K8P|044022165X|     511419057|       The Rainmaker|           Books|          5|            2|          2|   N|                N|A definite page t...|John Grisham's Th...| 1996-05-15|\n",
            "|         US|   53091057|R3M7XTU4Y95NV6|0425107469|      50861192|            Watchers|           Books|          5|            1|          2|   N|                N|The best book tha...|This was my first...| 1996-05-17|\n",
            "|         US|   53092180|R1KLWU5B78FKDR|0880389052|     243097701|Homeland (Forgott...|           Books|          5|            1|          1|   N|                N|Homeland is the b...|I usually don't l...| 1996-05-17|\n",
            "|         US|   53068480|R1BGW1GTUGJZXJ|0446310786|     994527755|To Kill a Mocking...|           Books|          5|            0|          1|   N|                N|Extraordinary sto...|On the surface, f...| 1996-05-18|\n",
            "|         US|   53092058| R5UI1Q87QAZKH|0385040199|     636860937|Anne Frank: Diary...|           Books|          5|            1|          1|   N|                N|How do you review...|How do you review...| 1996-05-19|\n",
            "|         US|   52152881| R4X9DR0KSYFXD|B000001FBU|     880908728|Creatures of the ...|           Music|          4|            1|          1|   N|                N|Kiss' return to h...|After briefly vis...| 1996-05-20|\n",
            "|         US|   53091884|R1TOE3LHCXE3DO|0679731377|      62087535|A History of the ...|           Books|          5|            0|          0|   N|                N|The best book I'v...|Barnes is a true ...| 1996-05-21|\n",
            "|         US|   53093609|R3IME3JO53P3EM|0451169514|     380266608|                  It|           Books|          5|            1|          1|   N|                N|One of Stephen Ki...|I have to say, th...| 1996-05-22|\n",
            "|         US|   53081592| R63DTB2NEMWYE|0316920045|     669738240|Infinite Jest: A ...|           Books|          5|            0|          1|   N|                N|Infinite Jest: I'...|I've been waiting...| 1996-05-23|\n",
            "|         US|   52510867|R1PY156QM1IKZN|0451175123|     594264062|The Fountainhead:...|           Books|          5|            0|          0|   N|                N|Powerful work of ...|Ayn Rand was the ...| 1996-05-23|\n",
            "+-----------+-----------+--------------+----------+--------------+--------------------+----------------+-----------+-------------+-----------+----+-----------------+--------------------+--------------------+-----------+\n",
            "only showing top 20 rows\n",
            "\n"
          ]
        }
      ],
      "source": [
        "from pyspark.sql.functions import to_date\n",
        "# Read in the Review dataset as a DataFrame\n",
        "df = spark.read.csv(SparkFiles.get(\"amazon_reviews_multilingual_US_v1_00.tsv.gz\"), sep=\"\\t\", header=True, inferSchema=True)\n",
        "df.show()\n"
      ]
    },
    {
      "cell_type": "code",
      "execution_count": null,
      "metadata": {
        "colab": {
          "base_uri": "https://localhost:8080/"
        },
        "id": "B0TESUDRY-90",
        "outputId": "13e0d6dd-3fc6-4a96-d85a-f8e0d5db10d1"
      },
      "outputs": [
        {
          "name": "stdout",
          "output_type": "stream",
          "text": [
            "+-----------+--------------+\n",
            "|customer_id|customer_count|\n",
            "+-----------+--------------+\n",
            "|   53057286|             1|\n",
            "|   51664859|             1|\n",
            "|   52663128|             1|\n",
            "|   53026749|             1|\n",
            "|   51401944|             1|\n",
            "|   52874649|             1|\n",
            "|   52997467|             1|\n",
            "|   53038996|             1|\n",
            "|   52136665|             1|\n",
            "|   52904709|            15|\n",
            "|   52820725|             1|\n",
            "|   53018387|             2|\n",
            "|   52764626|             1|\n",
            "|   52669743|             1|\n",
            "|   52316932|             1|\n",
            "|   52450694|             1|\n",
            "|   52686300|             1|\n",
            "|   51202275|             2|\n",
            "|   52778859|             1|\n",
            "|   52832889|             1|\n",
            "+-----------+--------------+\n",
            "only showing top 20 rows\n",
            "\n"
          ]
        }
      ],
      "source": [
        "# Create the customers_table DataFrame\n",
        "customers_df = df.groupby(\"customer_id\").count().withColumnRenamed(\"count\", \"customer_count\").drop_duplicates()\n",
        "customers_df.show(20)"
      ]
    },
    {
      "cell_type": "code",
      "execution_count": null,
      "metadata": {
        "colab": {
          "base_uri": "https://localhost:8080/"
        },
        "id": "4FwXA6UvY-96",
        "outputId": "c583892d-5b53-4521-a3a4-00aad34117b8"
      },
      "outputs": [
        {
          "name": "stdout",
          "output_type": "stream",
          "text": [
            "+----------+------------------------------------------------------------+\n",
            "|product_id|product_title                                               |\n",
            "+----------+------------------------------------------------------------+\n",
            "|0060920432|Flow: The Psychology of Optimal Experience                  |\n",
            "|1568495722|The Prize                                                   |\n",
            "|0140072187|Chickenhawk                                                 |\n",
            "|0060801263|A Tree Grows in Brooklyn                                    |\n",
            "|0783216084|Jaws [VHS]                                                  |\n",
            "|B000002UDB|Magical Mystery Tour                                        |\n",
            "|B000002GA8|Journey to the Centre of the Earth                          |\n",
            "|B000002NBY|Graceland                                                   |\n",
            "|B000001BZT|Copperhead Road                                             |\n",
            "|B000002A46|Merry Christmas                                             |\n",
            "|0767811038|Starship Troopers [VHS]                                     |\n",
            "|B000002O5L|Full Moon Fever                                             |\n",
            "|B000007MVM|The Madcap Laughs                                           |\n",
            "|0767827015|Boyz N the Hood [VHS]                                       |\n",
            "|0684867621|The Girl Who Loved Tom Gordon : A Novel                     |\n",
            "|B00000IQW3|The Last Starfighter  (Widescreen Collector's Edition)      |\n",
            "|B00000IMCW|Dawn of the Dead - U.S. Theatrical Cut (Anniversary Edition)|\n",
            "|B00000IQUT|I Spit on Your Grave (Collector's Edition) [VHS]            |\n",
            "|0767805690|Gattaca [VHS]                                               |\n",
            "|1573227978|The Beach                                                   |\n",
            "+----------+------------------------------------------------------------+\n",
            "only showing top 20 rows\n",
            "\n"
          ]
        }
      ],
      "source": [
        "# Create the products_table DataFrame and drop duplicates. \n",
        "products_df = df.select([\"product_id\", \"product_title\"]).drop_duplicates()\n",
        "products_df.show(20, truncate=False)"
      ]
    },
    {
      "cell_type": "code",
      "execution_count": null,
      "metadata": {
        "colab": {
          "base_uri": "https://localhost:8080/"
        },
        "id": "MkqyCuNQY-9-",
        "outputId": "8a7331f3-1b53-4d79-e8f1-1937ef967c52"
      },
      "outputs": [
        {
          "name": "stdout",
          "output_type": "stream",
          "text": [
            "+--------------+-----------+----------+--------------+-----------+\n",
            "|     review_id|customer_id|product_id|product_parent|review_date|\n",
            "+--------------+-----------+----------+--------------+-----------+\n",
            "|R1008B31O8OHR6|    2220573|B009RX7IX8|     938410555| 2013-10-23|\n",
            "|R100BF1QA80II3|   25048464|B000A0GP4K|     515248820| 2005-09-28|\n",
            "|R100SF7GXBA5JD|   42848944|B003Y01JL2|     611378783| 2013-10-27|\n",
            "|R100WGTOMJ7CT1|   11470794|0345535529|     268067011| 2015-08-13|\n",
            "|R100XGOQP36TOE|   46595012|B00I6IKSZ0|     918624977| 2014-10-12|\n",
            "|R100ZAQZZA3Z2Y|   45681782|B00B2V66VS|     148127986| 2013-01-27|\n",
            "|R1017WHTD4BF3V|   13346376|0767827902|     784205326| 2010-06-24|\n",
            "|R1018XE2TDMCEX|   43827999|B0002OERI0|     186187358| 2005-02-16|\n",
            "|R101BU5NE70Z0S|   39003783|B000OVLBGC|     748259704| 2007-09-16|\n",
            "|R101HW15MKEOOS|   47042010|B00003CXI1|     319706203| 2002-02-23|\n",
            "|R101M4VLBTFNS3|   52444329|B002L3RVCY|     214105132| 2010-03-08|\n",
            "|R101SFBS87FLJ2|   41237779|B00QW8TYWO|     828652896| 2014-12-24|\n",
            "|R101ZAMYQEGJYB|   13323456|B00881VLCE|      76742616| 2014-08-29|\n",
            "|R102239S4GAUJQ|   26672830|B003JTHXOK|     630820109| 2014-01-31|\n",
            "|R10236X7MPAZNY|   27364030|B00005A46T|     362231520| 2010-09-03|\n",
            "|R1026OV0RRG7F2|   21847625|B000XUBFE2|      47504452| 2014-04-05|\n",
            "|R102FXJ2MPESRK|    9123175|B00119ZMKW|     771688641| 2015-05-16|\n",
            "|R102GZR8RCJLB8|   23301844|B00B2FLDRQ|     274604361| 2015-06-13|\n",
            "|R102HVJQLJVY81|    4833891|B00119ZMKW|     771688641| 2015-03-27|\n",
            "|R102SH7EWYDI4T|   40741181|B00ISJSK7K|     803981632| 2014-03-31|\n",
            "+--------------+-----------+----------+--------------+-----------+\n",
            "only showing top 20 rows\n",
            "\n"
          ]
        }
      ],
      "source": [
        "# Create the review_id_table DataFrame. \n",
        "# Convert the 'review_date' column to a date datatype with to_date(\"review_date\", 'yyyy-MM-dd').alias(\"review_date\")\n",
        "review_id_df = df.select([\"review_id\",\"customer_id\", \"product_id\", \"product_parent\", to_date(\"review_date\", 'yyyy-MM-dd').alias(\"review_date\")]).drop_duplicates()\n",
        "review_id_df.show(20)"
      ]
    },
    {
      "cell_type": "code",
      "execution_count": null,
      "metadata": {
        "colab": {
          "base_uri": "https://localhost:8080/"
        },
        "id": "lzMmkdKmY--D",
        "outputId": "0f9ba48e-ba75-4e28-cd34-81990018b398"
      },
      "outputs": [
        {
          "name": "stdout",
          "output_type": "stream",
          "text": [
            "+--------------+-----------+-------------+-----------+----+-----------------+\n",
            "|     review_id|star_rating|helpful_votes|total_votes|vine|verified_purchase|\n",
            "+--------------+-----------+-------------+-----------+----+-----------------+\n",
            "|R100AXNMFVACPY|          2|            4|          7|   N|                N|\n",
            "|R100DRQ6Z1C6D6|          5|            0|          0|   N|                Y|\n",
            "|R100LZZVTVLB08|          1|            7|         16|   N|                N|\n",
            "|R100UUK035JD4E|          5|            0|          0|   N|                Y|\n",
            "|R100W7NQZM08J5|          4|            1|          1|   N|                Y|\n",
            "|R100ZB7HIXV0OZ|          4|            0|          0|   N|                N|\n",
            "|R1012NLMFN5M2V|          1|            0|          1|   N|                Y|\n",
            "|R101AGLAQ7TCAF|          5|            0|          0|   N|                Y|\n",
            "|R101DTK4EQVPA7|          5|            0|          1|   N|                Y|\n",
            "|R101KI89GF1VUT|          5|            0|          0|   N|                Y|\n",
            "|R101VE9TO2WYXN|          5|            0|          0|   N|                Y|\n",
            "|R101WJ69POL9UK|          1|            8|         12|   N|                Y|\n",
            "|R10214VCH7XGLK|          5|            1|          1|   N|                Y|\n",
            "|R1021RE19EXKS3|          5|            0|          0|   N|                Y|\n",
            "|R1023JSCWQNX7M|          1|            1|          1|   N|                N|\n",
            "|R102EYI0ICOCRE|          3|            0|          0|   N|                Y|\n",
            "|R102F0UVY5XZ08|          5|            0|          0|   N|                Y|\n",
            "|R102JBXUKWB63I|          5|           14|         14|   N|                Y|\n",
            "|R102LDML66I2LP|          5|            0|          0|   N|                Y|\n",
            "|R102WUSG8EIO1P|          3|            2|          3|   N|                Y|\n",
            "+--------------+-----------+-------------+-----------+----+-----------------+\n",
            "only showing top 20 rows\n",
            "\n"
          ]
        }
      ],
      "source": [
        "# Create the vine_table. DataFrame\n",
        "vine_df = df.select([\"review_id\", \"star_rating\", \"helpful_votes\", \"total_votes\", \"vine\", \"verified_purchase\"]).drop_duplicates()\n",
        "vine_df.show(20)"
      ]
    },
    {
      "cell_type": "markdown",
      "metadata": {
        "id": "jITZhLkmY--J"
      },
      "source": [
        "### Connect to the AWS RDS instance and write each DataFrame to its table. "
      ]
    },
    {
      "cell_type": "code",
      "execution_count": null,
      "metadata": {
        "id": "7jiUvs1aY--L"
      },
      "outputs": [],
      "source": [
        "# Configure settings for RDS\n",
        "mode = \"append\"\n",
        "jdbc_url=\"jdbc:postgresql://<connection>:5432/<database>\"\n",
        "config = {\"user\":\"\", \n",
        "          \"password\": \"\", \n",
        "          \"driver\":\"org.postgresql.Driver\"}"
      ]
    },
    {
      "cell_type": "code",
      "execution_count": null,
      "metadata": {
        "id": "T2zgZ-aKY--Q"
      },
      "outputs": [],
      "source": [
        "# Write review_id_df to table in RDS\n",
        "review_id_df.write.jdbc(url=jdbc_url, table='review_id_table', mode=mode, properties=config)"
      ]
    },
    {
      "cell_type": "code",
      "execution_count": null,
      "metadata": {
        "id": "1m3yzn-LY--U"
      },
      "outputs": [],
      "source": [
        "# Write products_df to table in RDS\n",
        "# about 3 min\n",
        "products_df.write.jdbc(url=jdbc_url, table='products_table', mode=mode, properties=config)"
      ]
    },
    {
      "cell_type": "code",
      "execution_count": null,
      "metadata": {
        "id": "KbXri15fY--Z"
      },
      "outputs": [],
      "source": [
        "# Write customers_df to table in RDS\n",
        "# 5 min 14 s\n",
        "customers_df.write.jdbc(url=jdbc_url, table='customers_table', mode=mode, properties=config)"
      ]
    },
    {
      "cell_type": "code",
      "execution_count": null,
      "metadata": {
        "colab": {
          "background_save": true
        },
        "id": "XdQknSHLY--e"
      },
      "outputs": [],
      "source": [
        "# Write vine_df to table in RDS\n",
        "# 11 minutes\n",
        "vine_df.write.jdbc(url=jdbc_url, table='vine_table', mode=mode, properties=config)"
      ]
    },
    {
      "cell_type": "code",
      "execution_count": null,
      "metadata": {
        "id": "Exuo6ebUsCqW"
      },
      "outputs": [],
      "source": []
    }
  ],
  "metadata": {
    "colab": {
      "collapsed_sections": [],
      "provenance": []
    },
    "kernelspec": {
      "display_name": "Python 3",
      "name": "python3"
    },
    "language_info": {
      "name": "python"
    },
    "nteract": {
      "version": "0.12.3"
    }
  },
  "nbformat": 4,
  "nbformat_minor": 0
}